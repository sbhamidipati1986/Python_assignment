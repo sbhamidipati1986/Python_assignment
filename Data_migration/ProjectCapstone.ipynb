{
 "cells": [
  {
   "cell_type": "code",
   "execution_count": 0,
   "metadata": {
    "application/vnd.databricks.v1+cell": {
     "cellMetadata": {},
     "inputWidgets": {},
     "nuid": "e98a0f8a-a626-4104-9de4-76420a2ee42d",
     "showTitle": false,
     "title": ""
    }
   },
   "outputs": [],
   "source": [
    "import requests\n",
    "import zipfile\n",
    "import io\n",
    "\n",
    "# URL of the ZIP file\n",
    "url = 'https://www.sec.gov/Archives/edgar/daily-index/xbrl/companyfacts.zip'\n",
    "\n",
    "# Send a GET request to the URL\n",
    "response = requests.get(url, headers={'User-Agent': 'Mozilla/5.0'})\n",
    "# Extract the content from the response\n",
    "zip_content = io.BytesIO(response.content)\n",
    "# Create a ZipFile object\n",
    "with zipfile.ZipFile(zip_content, 'r') as zip_ref:\n",
    "    # Extract all the contents to a specified directory in Databricks File System (DBFS)\n",
    "    zip_ref.extractall('/dbfs/mnt/out/extracted_files/')  \n",
    "print(\"Extraction completed successfully.\")\n",
    "# Copy the contents of the extracted files directory in DBFS to Azure Data Lake Storage Gen2\n",
    "dbutils.fs.cp('dbfs:/mnt/out/extracted_files/','abfss://project@firstdemoto.dfs.core.windows.net/jsonfiles/',recurse=True)\n"
   ]
  },
  {
   "cell_type": "code",
   "execution_count": 0,
   "metadata": {
    "application/vnd.databricks.v1+cell": {
     "cellMetadata": {
      "byteLimit": 2048000,
      "rowLimit": 10000
     },
     "inputWidgets": {},
     "nuid": "cc38e69f-d429-4478-bb58-258efe098814",
     "showTitle": false,
     "title": ""
    }
   },
   "outputs": [],
   "source": [
    "import pandas as pd\n",
    "import fsspec\n",
    "import  adlfs \n",
    "from pprint import pprint\n",
    "spark.conf.set(\"fs.azure.account.auth.type.firstdemoto.dfs.core.windows.net\", \"SAS\")\n",
    "spark.conf.set(\"fs.azure.sas.token.provider.type.firstdemoto.dfs.core.windows.net\", \"org.apache.hadoop.fs.azurebfs.sas.FixedSASTokenProvider\")\n",
    "spark.conf.set(\"fs.azure.sas.fixed.token.firstdemoto.dfs.core.windows.net\", \"sp=rw&st=2024-03-24T12:43:36Z&se=2024-03-24T20:43:36Z&spr=https&sv=2022-11-02&sr=c&sig=RJrzaLvO9OtMSpI84SUbZbYSIR%2BxYETguqJehY64YYM%3D\")\n",
    "# Read the JSON file into a DataFrame\n",
    "df = pd.read_json('abfs://project@firstdemoto.dfs.core.windows.net/jsonfiles/CIK0001099219.json', lines=True)\n",
    "df1=df.to_dict(df['facts'])\n",
    "print(df1)\n"
   ]
  },
  {
   "cell_type": "code",
   "execution_count": 0,
   "metadata": {
    "application/vnd.databricks.v1+cell": {
     "cellMetadata": {
      "byteLimit": 2048000,
      "rowLimit": 10000
     },
     "inputWidgets": {},
     "nuid": "23c3d6ac-b477-4467-9e66-5a5875e1fbf7",
     "showTitle": false,
     "title": ""
    }
   },
   "outputs": [],
   "source": []
  },
  {
   "cell_type": "code",
   "execution_count": 0,
   "metadata": {
    "application/vnd.databricks.v1+cell": {
     "cellMetadata": {
      "byteLimit": 2048000,
      "rowLimit": 10000
     },
     "inputWidgets": {},
     "nuid": "0c31c177-2a42-4776-aecc-43563a5e95a0",
     "showTitle": false,
     "title": ""
    }
   },
   "outputs": [],
   "source": []
  }
 ],
 "metadata": {
  "application/vnd.databricks.v1+notebook": {
   "dashboards": [],
   "language": "python",
   "notebookMetadata": {
    "pythonIndentUnit": 4
   },
   "notebookName": "ProjectCapstone",
   "widgets": {}
  }
 },
 "nbformat": 4,
 "nbformat_minor": 0
}
